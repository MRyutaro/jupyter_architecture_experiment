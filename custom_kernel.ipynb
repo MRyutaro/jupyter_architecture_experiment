{
 "cells": [
  {
   "cell_type": "code",
   "execution_count": 1,
   "id": "18d0a515-9320-424b-ad54-0825be159fa0",
   "metadata": {},
   "outputs": [
    {
     "name": "stdout",
     "output_type": "stream",
     "text": [
      "1\n"
     ]
    }
   ],
   "source": [
    "print(1)"
   ]
  },
  {
   "cell_type": "code",
   "execution_count": 12,
   "id": "cc3aa36c-7f88-4f7e-a788-b6ad72e2c204",
   "metadata": {},
   "outputs": [
    {
     "name": "stdout",
     "output_type": "stream",
     "text": [
      "{\n",
      "  \"shell_port\": 34891,\n",
      "  \"iopub_port\": 41017,\n",
      "  \"stdin_port\": 48855,\n",
      "  \"control_port\": 36469,\n",
      "  \"hb_port\": 60303,\n",
      "  \"ip\": \"127.0.0.1\",\n",
      "  \"key\": \"2b1f1232-2107a92fb6440cfddd412537\",\n",
      "  \"transport\": \"tcp\",\n",
      "  \"signature_scheme\": \"hmac-sha256\",\n",
      "  \"kernel_name\": \"python3-kernel-gateway\",\n",
      "  \"jupyter_session\": \"/workspaces/jupyter_architecture_experiment/Untitled.ipynb\"\n",
      "}\n",
      "\n",
      "Paste the above JSON into a file, and connect with:\n",
      "    $> jupyter <app> --existing <file>\n",
      "or, if you are local, you can connect with just:\n",
      "    $> jupyter <app> --existing kernel-5f247aa2-fda6-4ab4-9fa4-f6bcce720218.json\n",
      "or even just:\n",
      "    $> jupyter <app> --existing\n",
      "if this is the most recent Jupyter kernel you have started.\n"
     ]
    }
   ],
   "source": [
    "%connect_info"
   ]
  }
 ],
 "metadata": {
  "kernelspec": {
   "display_name": "Python 3 (Kernel Gateway)",
   "language": "python",
   "name": "python3-kernel-gateway"
  },
  "language_info": {
   "codemirror_mode": {
    "name": "ipython",
    "version": 3
   },
   "file_extension": ".py",
   "mimetype": "text/x-python",
   "name": "python",
   "nbconvert_exporter": "python",
   "pygments_lexer": "ipython3",
   "version": "3.12.7"
  }
 },
 "nbformat": 4,
 "nbformat_minor": 5
}
